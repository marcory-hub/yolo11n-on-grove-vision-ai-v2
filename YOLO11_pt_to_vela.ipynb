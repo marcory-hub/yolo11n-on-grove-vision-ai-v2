{
  "nbformat": 4,
  "nbformat_minor": 0,
  "metadata": {
    "colab": {
      "provenance": [],
      "include_colab_link": true
    },
    "kernelspec": {
      "name": "python3",
      "display_name": "Python 3"
    }
  },
  "cells": [
    {
      "cell_type": "markdown",
      "metadata": {
        "id": "view-in-github",
        "colab_type": "text"
      },
      "source": [
        "<a href=\"https://colab.research.google.com/github/marcory-hub/yolo11n-on-grove-vision-ai-v2/blob/main/YOLO11_pt_to_vela.ipynb\" target=\"_parent\"><img src=\"https://colab.research.google.com/assets/colab-badge.svg\" alt=\"Open In Colab\"/></a>"
      ]
    },
    {
      "cell_type": "markdown",
      "metadata": {
        "id": "7mGmQbAO5pQb"
      },
      "source": [
        "# YOLO11n full integer quantisation and vela conversion for Grove Vision AI V2\n"
      ]
    },
    {
      "cell_type": "markdown",
      "source": [
        "Check if you have to replace the default options with your custom model name and image size:\n",
        "- `imgsz`=224 (or 192, default for Grove vision AI V2, or other sizes. Train the yolo model with the imgsz that you are going to use on the Grove Vision AI V2.)\n",
        "- `model_name`=best.pt (or replace best with a custom name)\n",
        "- `nc` = 4 (or your number of classes, fe coco dataset has 80 classes)\n",
        "- `class_names`='amel', 'vcra', 'vespsp', 'vvel' (or your default classnames, in this format)\n",
        "- `name`=best (or your custom name)"
      ],
      "metadata": {
        "id": "CDcOxKQzLEdy"
      }
    },
    {
      "cell_type": "markdown",
      "source": [
        "1. Make sure images and labels from your dataset have this folder structure with these exact names. And add `data.yaml` to main folder.\n",
        "\n",
        "```\n",
        "🗂️ dataset\n",
        "  🗂️ train\n",
        "    🗂️ images\n",
        "    🗂️ labels\n",
        "  🗂️ valid\n",
        "    🗂️ images\n",
        "    🗂️ labels\n",
        "  data.yaml\n",
        "```\n",
        "\n",
        "2. Zip the dataset folder to a file names `dataset.zip` On mac use `zip -r dataset.zip . -x \"*.DS_Store\" \"__MACOSX/*\" \".Trashes/*\" \".Spotlight-V100/*\" \".TemporaryItems/*\"` to exclude hidden files, such as finderfiles, from the zipped file.\n",
        "\n",
        "3. Make in /content/drive/MyDrive the folder `yolo`. Copy the `dataset.zip` file to this folder, it is needed to make a callibration image set and your yolo model, fe `best.pt` to this folder. For the model you can use a custom name and adjust it in the options below.\n",
        "\n",
        "4. Copy the `dataset.zip` file to the folder /content/drive/MyDrive/yolo."
      ],
      "metadata": {
        "id": "9u-xOcjg_Vvc"
      }
    },
    {
      "cell_type": "markdown",
      "source": [
        "\n",
        "\n",
        "This notebook uses the module imp. It is no longer available in python 3.12 (depricated since python 3.4). As workaround the code runs in a python 3.10 env."
      ],
      "metadata": {
        "id": "5Mpb8A-IfNTE"
      }
    },
    {
      "cell_type": "code",
      "source": [
        "model_name = \"best2.pt\"\n",
        "print(f\"Variable defined: {model_name}\")"
      ],
      "metadata": {
        "id": "Xf9cEEWpKlHQ"
      },
      "execution_count": null,
      "outputs": []
    },
    {
      "cell_type": "markdown",
      "source": [
        "## Data preparation"
      ],
      "metadata": {
        "id": "-E6T0gG0B2XP"
      }
    },
    {
      "cell_type": "code",
      "source": [
        "# Mount Google Drive\n",
        "from google.colab import drive\n",
        "drive.mount('/content/drive', force_remount=True)"
      ],
      "metadata": {
        "id": "BQRjoKjiADLc"
      },
      "execution_count": null,
      "outputs": []
    },
    {
      "cell_type": "code",
      "source": [
        "# Copy zipped dataset to colab and unzip the dataset\n",
        "!scp '/content/drive/MyDrive/yolo/dataset.zip' '/content/dataset.zip'\n",
        "!unzip '/content/dataset.zip' -d '/content/'"
      ],
      "metadata": {
        "collapsed": true,
        "id": "6GGfwEQjB1Ou"
      },
      "execution_count": null,
      "outputs": []
    },
    {
      "cell_type": "code",
      "source": [
        "# Make a temp_dataset from the validation images for calibration purposes\n",
        "import os\n",
        "import random\n",
        "import shutil\n",
        "import yaml\n",
        "\n",
        "nc = \"4\" #@param {type:\"string\"}\n",
        "class_names = \"'amel', 'vcra', 'vespsp', 'vvel'\" #@param {type:\"string\"}\n",
        "\n",
        "num_images = 500\n",
        "original_dir = \"/content/dataset/valid\"\n",
        "temp_dir = \"/content/temp_subset\"\n",
        "\n",
        "# Get random image files\n",
        "images = [f for f in os.listdir(f\"{original_dir}/images\")\n",
        "          if f.lower().endswith(('.jpg', '.jpeg', '.png'))]\n",
        "selected = random.sample(images, min(num_images, len(images)))\n",
        "\n",
        "# Create directories and copy files\n",
        "os.makedirs(f\"{temp_dir}/valid/images\", exist_ok=True)\n",
        "os.makedirs(f\"{temp_dir}/valid/labels\", exist_ok=True)\n",
        "\n",
        "for img in selected:\n",
        "    label = img.rsplit('.', 1)[0] + '.txt'\n",
        "    shutil.copy(f\"{original_dir}/images/{img}\", f\"{temp_dir}/valid/images/{img}\")\n",
        "    if os.path.exists(f\"{original_dir}/labels/{label}\"):\n",
        "        shutil.copy(f\"{original_dir}/labels/{label}\", f\"{temp_dir}/valid/labels/{label}\")\n",
        "\n",
        "# Create temp_data.yaml\n",
        "nc_int = int(nc)\n",
        "names_list = [name.strip().strip(\"'\") for name in class_names.split(',')]\n",
        "\n",
        "temp_data_string = f\"\"\"\n",
        "train: /content/temp_subset/train/images\n",
        "val: /content/temp_subset/valid/images\n",
        "nc: {nc_int}\n",
        "names: {names_list}\n",
        "\"\"\"\n",
        "\n",
        "with open(\"/content/temp_data.yaml\", 'w') as f:\n",
        "    f.write(temp_data_string.strip())\n",
        "\n",
        "print(\"Created temp_data.yaml.\")"
      ],
      "metadata": {
        "id": "bYPdQ2069kqb"
      },
      "execution_count": null,
      "outputs": []
    },
    {
      "cell_type": "markdown",
      "source": [
        "# Clone WiseEye, python3.10-dev for tf, maken env_yolo11 and clone kris-himax ultralytics\n"
      ],
      "metadata": {
        "id": "rbZMCv48EoZC"
      }
    },
    {
      "cell_type": "code",
      "metadata": {
        "id": "wbvMlHd_QwMG"
      },
      "source": [
        "!git clone https://github.com/HimaxWiseEyePlus/YOLO11_on_WE2\n",
        "%cd YOLO11_on_WE2"
      ],
      "execution_count": null,
      "outputs": []
    },
    {
      "cell_type": "code",
      "source": [
        "!sudo apt install python3.10-dev"
      ],
      "metadata": {
        "id": "LR97IV5pZ89H"
      },
      "execution_count": null,
      "outputs": []
    },
    {
      "cell_type": "code",
      "source": [
        "!python3.10 -m venv --without-pip env_yolo11\n",
        "!wget https://bootstrap.pypa.io/get-pip.py\n",
        "!source env_yolo11/bin/activate && \\\n",
        "  which python && \\\n",
        "  python --version && \\\n",
        "  which pip && \\\n",
        "  python get-pip.py && \\\n",
        "  pip install tensorflow-cpu"
      ],
      "metadata": {
        "id": "5uHdf4UqVwnA"
      },
      "execution_count": null,
      "outputs": []
    },
    {
      "cell_type": "code",
      "source": [
        "!source env_yolo11/bin/activate && \\\n",
        "    git clone https://github.com/kris-himax/ultralytics && \\\n",
        "    cd ultralytics && \\\n",
        "    pip install . && \\\n",
        "    cd .."
      ],
      "metadata": {
        "id": "QAo92W5-aagC"
      },
      "execution_count": null,
      "outputs": []
    },
    {
      "cell_type": "markdown",
      "source": [
        "# Copy custom model to env_yolo11 and convert_tflite.py"
      ],
      "metadata": {
        "id": "4Ynf1NouTzS-"
      }
    },
    {
      "cell_type": "code",
      "source": [
        "# Set your model name here\n",
        "model_name = \"best.pt\" #@param {type:\"string\"}\n",
        "imgsz = 256 #@param {type:\"integer\"}\n",
        "data=\"/content/temp_data.yaml\"\n",
        "\n",
        "# Copy the .pt file to the YOLO11_on_WE2 directory\n",
        "!cp /content/drive/MyDrive/yolo/{model_name} /content/YOLO11_on_WE2/\n",
        "\n",
        "# Create the updated convert_tflite.py content\n",
        "convert_script = f\"\"\"import ultralytics\n",
        "ultralytics.checks()\n",
        "from ultralytics import YOLO\n",
        "model = YOLO('/content/YOLO11_on_WE2/{model_name}')\n",
        "model.export(format='tflite', imgsz={imgsz}, int8=True, no_post=True, data='/content/temp_data.yaml')\n",
        "\"\"\"\n",
        "\n",
        "# Write the updated script to the file\n",
        "with open('/content/YOLO11_on_WE2/examples/convert_tflite.py', 'w') as f:\n",
        "    f.write(convert_script)\n",
        "\n",
        "print(f\"Updated convert_tflite.py with model name: {model_name}\")\n",
        "print(\"File contents:\")\n",
        "print(convert_script)"
      ],
      "metadata": {
        "id": "g9CylqGtQNKd"
      },
      "execution_count": null,
      "outputs": []
    },
    {
      "cell_type": "markdown",
      "source": [
        "# Convert full_integer_quant_vela.tflite"
      ],
      "metadata": {
        "id": "7amS16tfIZis"
      }
    },
    {
      "cell_type": "code",
      "source": [
        "!source env_yolo11/bin/activate && \\\n",
        "  unset MPLBACKEND && \\\n",
        "  export MPLBACKEND=Agg && \\\n",
        "  python3.10 examples/convert_tflite.py"
      ],
      "metadata": {
        "id": "qmSldHJdSurl"
      },
      "execution_count": null,
      "outputs": []
    },
    {
      "cell_type": "code",
      "source": [
        "!source env_yolo11/bin/activate && \\\n",
        "  pip install ethos-u-vela && \\\n",
        "  wget https://raw.githubusercontent.com/HimaxWiseEyePlus/ML_FVP_EVALUATION/main/vela/himax_vela.ini"
      ],
      "metadata": {
        "id": "sEaugkFErNtI"
      },
      "execution_count": null,
      "outputs": []
    },
    {
      "cell_type": "code",
      "source": [
        "name = \"best\" #@param {type:\"string\"}\n",
        "\n",
        "!source env_yolo11/bin/activate && \\\n",
        "  vela --accelerator-config ethos-u55-64 \\\n",
        "  --config himax_vela.ini \\\n",
        "  --system-config My_Sys_Cfg \\\n",
        "  --memory-mode My_Mem_Mode_Parent \\\n",
        "  --output-dir /content/YOLO11_on_WE2/{name}_saved_model/ \\\n",
        "  /content/YOLO11_on_WE2/best_saved_model/{name}_full_integer_quant.tflite"
      ],
      "metadata": {
        "id": "AbPSbH0E86oF"
      },
      "execution_count": null,
      "outputs": []
    },
    {
      "cell_type": "code",
      "source": [
        "!source env_yolo11/bin/activate && \\\n",
        "  vela --accelerator-config ethos-u55-64 \\\n",
        "  --config himax_vela.ini \\\n",
        "  --system-config My_Sys_Cfg \\\n",
        "  --memory-mode My_Mem_Mode_Parent \\\n",
        "  --output-dir /content/YOLO11_on_WE2/best_256_saved_model/ \\\n",
        "  /content/YOLO11_on_WE2/best_saved_model/best_full_integer_quant.tflite"
      ],
      "metadata": {
        "id": "akaBOt6sedrE"
      },
      "execution_count": null,
      "outputs": []
    },
    {
      "cell_type": "markdown",
      "source": [
        "# Zip and download the results"
      ],
      "metadata": {
        "id": "kw3_KHKv3xxz"
      }
    },
    {
      "cell_type": "code",
      "source": [
        "from google.colab import files\n",
        "\n",
        "name = \"best\" #@param {type:\"string\"}\n",
        "\n",
        "# Zip the saved model directory\n",
        "!zip -r /content/{name}_saved_model.zip /content/YOLO11_on_WE2/{name}_saved_model\n",
        "\n",
        "# Download the zip file\n",
        "files.download(f'/content/{name}_saved_model.zip')"
      ],
      "metadata": {
        "id": "jp53y9cUZgH9"
      },
      "execution_count": null,
      "outputs": []
    }
  ]
}