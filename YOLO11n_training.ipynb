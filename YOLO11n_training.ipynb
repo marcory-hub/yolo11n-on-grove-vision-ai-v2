{
  "cells": [
    {
      "cell_type": "markdown",
      "metadata": {
        "id": "view-in-github",
        "colab_type": "text"
      },
      "source": [
        "<a href=\"https://colab.research.google.com/github/marcory-hub/yolo11n-on-grove-vision-ai-v2/blob/main/YOLO11n_training.ipynb\" target=\"_parent\"><img src=\"https://colab.research.google.com/assets/colab-badge.svg\" alt=\"Open In Colab\"/></a>"
      ]
    },
    {
      "cell_type": "markdown",
      "metadata": {
        "id": "O0lRa_4PikAv"
      },
      "source": [
        "# YOLO11n training\n",
        "\n",
        "\n"
      ]
    },
    {
      "cell_type": "markdown",
      "metadata": {
        "id": "tFjHVd6cDZ0-"
      },
      "source": [
        "1. Make sure images and labels from your dataset have this folder structure with these exact names. And add `data.yaml` to main folder.\n",
        "\n",
        "```\n",
        "🗂️ dataset\n",
        "  🗂️ train\n",
        "    🗂️ images\n",
        "    🗂️ labels\n",
        "  🗂️ valid\n",
        "    🗂️ images\n",
        "    🗂️ labels\n",
        "  data.yaml\n",
        "```\n",
        "\n",
        "2. Zip the dataset folder to a file names `dataset.zip` On mac use `zip -r dataset.zip . -x \"*.DS_Store\" \"__MACOSX/*\" \".Trashes/*\" \".Spotlight-V100/*\" \".TemporaryItems/*\"` to exclude hidden files, such as finderfiles, from the zipped file.\n",
        "\n",
        "3. Make in /content/drive/MyDrive the folder `yolo`. Copy the `dataset.zip` file to this folder, it is needed to make a callibration image set and your yolo model, fe `best.pt` to this folder. For the model you can use a custom name and adjust it in the options below.\n",
        "\n",
        "4. Copy the `dataset.zip` file to the folder /content/drive/MyDrive/yolo.\n"
      ]
    },
    {
      "cell_type": "code",
      "execution_count": null,
      "metadata": {
        "id": "Flau3K3sWnPt"
      },
      "outputs": [],
      "source": [
        "# Mount Google Drive\n",
        "from google.colab import drive\n",
        "drive.mount('/content/drive', force_remount=True)"
      ]
    },
    {
      "cell_type": "code",
      "execution_count": null,
      "metadata": {
        "id": "hUgFqkhTEgVh"
      },
      "outputs": [],
      "source": [
        "#check GPU\n",
        "gpu_info = !nvidia-smi\n",
        "gpu_info = '\\n'.join(gpu_info)\n",
        "if gpu_info.find('failed') >= 0:\n",
        "  print('Not connected to a GPU')\n",
        "else:\n",
        "  print(gpu_info)"
      ]
    },
    {
      "cell_type": "markdown",
      "metadata": {
        "id": "djr_TvuLjPeA"
      },
      "source": [
        "# Adjust the zipped file name"
      ]
    },
    {
      "cell_type": "code",
      "execution_count": null,
      "metadata": {
        "id": "62GWESe7W2uo",
        "collapsed": true
      },
      "outputs": [],
      "source": [
        "# Copy zipped dataset to colab and unzip the dataset\n",
        "!scp '/content/drive/MyDrive/yolo/dataset.zip' '/content/dataset.zip'\n",
        "!unzip '/content/dataset.zip' -d '/content/'"
      ]
    },
    {
      "cell_type": "code",
      "execution_count": null,
      "metadata": {
        "id": "LPsWkcdetbX8"
      },
      "outputs": [],
      "source": [
        "# Install the required packages for Ultralytics YOLO 8.3.166 and Weights & Biases\n",
        "!pip install -U ultralytics wandb\n",
        "\n",
        "# Enable W&B logging for Ultralytics\n",
        "!yolo settings wandb=True"
      ]
    },
    {
      "cell_type": "code",
      "source": [
        "# check if ultralytics version is 8.3.166\n",
        "import ultralytics\n",
        "print(ultralytics.__version__)"
      ],
      "metadata": {
        "id": "g-ZqLQKjIkWY"
      },
      "execution_count": null,
      "outputs": []
    },
    {
      "cell_type": "code",
      "execution_count": null,
      "metadata": {
        "id": "T6LZI8IZ0tcL"
      },
      "outputs": [],
      "source": [
        "import wandb\n",
        "from google.colab import userdata\n",
        "\n",
        "# Retrieve the WandB API key from Colab's user secrets\n",
        "api_key = userdata.get('wandb-key')\n",
        "\n",
        "# Log in to WandB\n",
        "wandb.login(key=api_key)"
      ]
    },
    {
      "cell_type": "code",
      "execution_count": null,
      "metadata": {
        "id": "jmoVMUM-A5kY"
      },
      "outputs": [],
      "source": [
        "from ultralytics import YOLO\n",
        "\n",
        "# Initialize YOLO\n",
        "yolo = YOLO()\n",
        "\n",
        "# Enable W&B logging for Ultralytics\n",
        "yolo.settings = {\"wandb\": True}"
      ]
    },
    {
      "cell_type": "markdown",
      "metadata": {
        "id": "MxQIY3_-N6xG"
      },
      "source": [
        "\n",
        "# Train, zip and download the model"
      ]
    },
    {
      "cell_type": "markdown",
      "source": [
        "Common batch sizes that work well with GPU architectures are powers of two, such as 16, 32, 64, 128, ... 512. -1 for autobatch.\n"
      ],
      "metadata": {
        "id": "ZZc6pF4iFDqX"
      }
    },
    {
      "cell_type": "code",
      "execution_count": null,
      "metadata": {
        "id": "OCIjtuy3tWps"
      },
      "outputs": [],
      "source": [
        "from ultralytics import YOLO\n",
        "from google.colab import files\n",
        "\n",
        "name = \"best\" #@param {type:\"string\"}\n",
        "project = \"project\" #@param {type:\"string\"}\n",
        "epochs = 10 #@param {type:\"integer\"}\n",
        "batch_size = 128 #@param {type:\"integer\"}\n",
        "imgsz = 224 #@param {type:\"integer\"}\n",
        "dataset_path = \"/content/dataset/data.yaml\" #@param {type:\"string\"}\n",
        "\n",
        "# Get pre-trained model\n",
        "model = YOLO(\"yolo11n.pt\")\n",
        "\n",
        "# Train/fine-tune model\n",
        "model.train(data=dataset_path,\n",
        "            augment=True,\n",
        "            epochs=epochs,\n",
        "            patience=10,\n",
        "            imgsz=imgsz,\n",
        "            batch=batch_size,\n",
        "            project=project,\n",
        "            name=name)\n",
        "\n",
        "# zip and download\n",
        "!zip -r /content/{name}.zip /content/{project}\n",
        "files.download(f'/content/{name}.zip')"
      ]
    },
    {
      "cell_type": "markdown",
      "metadata": {
        "id": "PwXmXQIK8JEN"
      },
      "source": [
        "-----"
      ]
    }
  ],
  "metadata": {
    "colab": {
      "machine_shape": "hm",
      "provenance": [],
      "gpuType": "A100",
      "authorship_tag": "ABX9TyPLRFnlNOK/L/iDfHZT5MVb",
      "include_colab_link": true
    },
    "kernelspec": {
      "display_name": "Python 3",
      "name": "python3"
    },
    "language_info": {
      "name": "python"
    },
    "accelerator": "GPU"
  },
  "nbformat": 4,
  "nbformat_minor": 0
}